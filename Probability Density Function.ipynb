{
 "cells": [
  {
   "cell_type": "code",
   "execution_count": 11,
   "metadata": {},
   "outputs": [],
   "source": [
    "import math\n",
    "import matplotlib.pyplot as plt\n",
    "from PIL import Image\n",
    "import urllib"
   ]
  },
  {
   "cell_type": "code",
   "execution_count": 17,
   "metadata": {},
   "outputs": [
    {
     "data": {
      "image/png": "[encoded data removed]",
      "text/plain": [
       "<PIL.PngImagePlugin.PngImageFile image mode=RGBA size=350x382 at 0x165765A7F28>"
      ]
     },
     "execution_count": 17,
     "metadata": {},
     "output_type": "execute_result"
    }
   ],
   "source": [
    "im = Image.open(urllib.request.urlopen('https://upload.wikimedia.org/wikipedia/commons/thumb/1/1a/Boxplot_vs_PDF.svg/350px-Boxplot_vs_PDF.svg.png'))\n",
    "im"
   ]
  },
  {
   "cell_type": "markdown",
   "metadata": {},
   "source": [
    "if f(x) = 3/4 *(x^2+1)  for 0<=x<=1\n",
    "1. Find p(x>=1.1)\n",
    "2. Find p(0.4<x<0.92)"
   ]
  },
  {
   "cell_type": "code",
   "execution_count": 18,
   "metadata": {},
   "outputs": [],
   "source": [
    "def probabilityDensityFunction(func):\n",
    "    def pdf(lowerlimit,upperlimit):\n",
    "        sub_interval = 1000\n",
    "        step_size = (upperlimit-lowerlimit)/sub_interval\n",
    "        integration = func(upperlimit) + func(lowerlimit)\n",
    "        for i in range(1,sub_interval):\n",
    "            if i%3==0:\n",
    "                integration+=func(i*step_size+lowerlimit)*2\n",
    "            else:\n",
    "                integration+=func(i*step_size+lowerlimit)*3\n",
    "        integration=integration*step_size*3/8\n",
    "        return integration\n",
    "    return pdf"
   ]
  },
  {
   "cell_type": "code",
   "execution_count": 19,
   "metadata": {},
   "outputs": [],
   "source": [
    "@probabilityDensityFunction\n",
    "def function(x):\n",
    "    if(x>=0 and x<=1):\n",
    "        return 3/4*(x**2+1)\n",
    "    return 0"
   ]
  },
  {
   "cell_type": "code",
   "execution_count": 24,
   "metadata": {},
   "outputs": [
    {
     "data": {
      "text/plain": [
       "0.0"
      ]
     },
     "execution_count": 24,
     "metadata": {},
     "output_type": "execute_result"
    }
   ],
   "source": [
    "# 1. Find p(x>=1.1)\n",
    "function(1.1,100) #100 acts as infinity"
   ]
  },
  {
   "cell_type": "code",
   "execution_count": 25,
   "metadata": {},
   "outputs": [
    {
     "data": {
      "text/plain": [
       "0.5684920226483939"
      ]
     },
     "execution_count": 25,
     "metadata": {},
     "output_type": "execute_result"
    }
   ],
   "source": [
    "# 2. Find p(0.4<x<0.92)\n",
    "function(0.4,0.92)"
   ]
  },
  {
   "cell_type": "markdown",
   "metadata": {},
   "source": [
    "## Solved"
   ]
  },
  {
   "cell_type": "markdown",
   "metadata": {},
   "source": [
    "if f(x) = 3/4 *(x^2+1)  for 0<=x<=1\n",
    "1. Find p(x>=1.1)\n",
    "2. Find p(0.4<x<0.92)"
   ]
  },
  {
   "cell_type": "code",
   "execution_count": 28,
   "metadata": {},
   "outputs": [],
   "source": [
    "@probabilityDensityFunction\n",
    "def func(x):\n",
    "    if x>=0 and x<=1:\n",
    "        return 60* x**3 * (1-x)**2\n",
    "    return 0"
   ]
  },
  {
   "cell_type": "code",
   "execution_count": 29,
   "metadata": {},
   "outputs": [
    {
     "data": {
      "text/plain": [
       "0.0"
      ]
     },
     "execution_count": 29,
     "metadata": {},
     "output_type": "execute_result"
    }
   ],
   "source": [
    "#1. Find p(x>=1.1)\n",
    "func(1.1,1000)"
   ]
  },
  {
   "cell_type": "code",
   "execution_count": 30,
   "metadata": {},
   "outputs": [
    {
     "data": {
      "text/plain": [
       "0.8122487649599982"
      ]
     },
     "execution_count": 30,
     "metadata": {},
     "output_type": "execute_result"
    }
   ],
   "source": [
    "# 2. Find p(0.4<x<0.92)\n",
    "func(0.4,0.92)"
   ]
  },
  {
   "cell_type": "markdown",
   "metadata": {},
   "source": [
    "## solved"
   ]
  },
  {
   "cell_type": "markdown",
   "metadata": {},
   "source": [
    "Mathematical Expectation or simple expectation of random variable of x\n",
    "1. Arithmetic Mean\n",
    "2. Variance"
   ]
  },
  {
   "cell_type": "code",
   "execution_count": 48,
   "metadata": {},
   "outputs": [],
   "source": [
    "class MathematicalExpectation:\n",
    "    def __init__(self,func,lowerlimit,upperlimit):\n",
    "        self.func = func\n",
    "        self.lowerlimit = lowerlimit\n",
    "        self.upperlimit = upperlimit\n",
    "    \n",
    "    def ProbabilityDistribution(self,x):\n",
    "        sub_interval = 1000\n",
    "        step_size = (x-self.lowerlimit)/sub_interval\n",
    "        integration = self.func(x) + self.func(self.lowerlimit)\n",
    "        for i in range(1,sub_interval):\n",
    "            if i%3==0:\n",
    "                integration+=self.func(i*step_size+self.lowerlimit)*2\n",
    "            else:\n",
    "                integration+=self.func(i*step_size+self.lowerlimit)*3\n",
    "        integration=integration*step_size*3/8\n",
    "        return integration\n",
    "    \n",
    "    def MathematicalExpectation(self):\n",
    "        sub_interval = 1000\n",
    "        step_size = (self.upperlimit-self.lowerlimit)/sub_interval\n",
    "        integration = self.upperlimit * self.func(self.upperlimit) + self.lowerlimit * self.func(self.lowerlimit)\n",
    "        for i in range(1,sub_interval):\n",
    "            if i%3==0:\n",
    "                integration+= self.func(i*step_size+self.lowerlimit)*2 * (i*step_size+self.lowerlimit)\n",
    "            else:\n",
    "                integration+= self.func(i*step_size+self.lowerlimit)*3 * (i*step_size+self.lowerlimit)\n",
    "        integration=integration*step_size*3/8\n",
    "        return integration\n",
    "    \n",
    "    def Variance(self):\n",
    "        sub_interval = 1000\n",
    "        step_size = (self.upperlimit-self.lowerlimit)/sub_interval\n",
    "        integration = self.upperlimit**2 * self.func(self.upperlimit) + self.lowerlimit**2 * self.func(self.lowerlimit)\n",
    "        for i in range(1,sub_interval):\n",
    "            if i%3==0:\n",
    "                integration+= self.func(i*step_size+self.lowerlimit)*2 * (i*step_size+self.lowerlimit)**2\n",
    "            else:\n",
    "                integration+= self.func(i*step_size+self.lowerlimit)*3 * (i*step_size+self.lowerlimit)**2\n",
    "        integration=integration*step_size*3/8 - self.MathematicalExpectation()**2\n",
    "        return integration\n",
    "        \n",
    "    "
   ]
  },
  {
   "cell_type": "code",
   "execution_count": 49,
   "metadata": {},
   "outputs": [],
   "source": [
    "def func(x):\n",
    "    if x>=0 and x<=1:\n",
    "        return 3/4*(x**2+1)\n",
    "    return 0\n",
    "d = MathematicalExpectation(func,0,1)"
   ]
  },
  {
   "cell_type": "code",
   "execution_count": 50,
   "metadata": {},
   "outputs": [
    {
     "data": {
      "text/plain": [
       "0.315913012002"
      ]
     },
     "execution_count": 50,
     "metadata": {},
     "output_type": "execute_result"
    }
   ],
   "source": [
    "d.ProbabilityDistribution(0.4)"
   ]
  },
  {
   "cell_type": "code",
   "execution_count": 51,
   "metadata": {},
   "outputs": [
    {
     "data": {
      "text/plain": [
       "0.5038470405067494"
      ]
     },
     "execution_count": 51,
     "metadata": {},
     "output_type": "execute_result"
    }
   ],
   "source": [
    "d.ProbabilityDistribution(0.6)"
   ]
  },
  {
   "cell_type": "code",
   "execution_count": 52,
   "metadata": {},
   "outputs": [
    {
     "data": {
      "text/plain": [
       "0.5621253750936568"
      ]
     },
     "execution_count": 52,
     "metadata": {},
     "output_type": "execute_result"
    }
   ],
   "source": [
    "d.MathematicalExpectation()"
   ]
  },
  {
   "cell_type": "code",
   "execution_count": 54,
   "metadata": {},
   "outputs": [
    {
     "data": {
      "text/plain": [
       "0.08364062539441569"
      ]
     },
     "execution_count": 54,
     "metadata": {},
     "output_type": "execute_result"
    }
   ],
   "source": [
    "d.Variance()"
   ]
  },
  {
   "cell_type": "code",
   "execution_count": null,
   "metadata": {},
   "outputs": [],
   "source": []
  }
 ],
 "metadata": {
  "kernelspec": {
   "display_name": "Python 3",
   "language": "python",
   "name": "python3"
  },
  "language_info": {
   "codemirror_mode": {
    "name": "ipython",
    "version": 3
   },
   "file_extension": ".py",
   "mimetype": "text/x-python",
   "name": "python",
   "nbconvert_exporter": "python",
   "pygments_lexer": "ipython3",
   "version": "3.7.1"
  }
 },
 "nbformat": 4,
 "nbformat_minor": 2
}
