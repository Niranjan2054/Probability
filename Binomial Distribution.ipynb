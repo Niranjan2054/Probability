{
 "cells": [
  {
   "cell_type": "code",
   "execution_count": 18,
   "metadata": {},
   "outputs": [
    {
     "data": {
      "image/png": "[encoded data removed]",
      "text/plain": [
       "<PIL.PngImagePlugin.PngImageFile image mode=P size=700x500 at 0x1EAB3BD0278>"
      ]
     },
     "execution_count": 18,
     "metadata": {},
     "output_type": "execute_result"
    }
   ],
   "source": [
    "import math\n",
    "from PIL import Image\n",
    "import urllib\n",
    "im = Image.open(urllib.request.urlopen('http://www.malinc.se/math/iframeImages/s_binomial1.png'))\n",
    "im"
   ]
  },
  {
   "cell_type": "markdown",
   "metadata": {},
   "source": [
    "## Fig.: Binomial Distribution"
   ]
  },
  {
   "cell_type": "code",
   "execution_count": 2,
   "metadata": {},
   "outputs": [],
   "source": [
    "def combination(n,r):\n",
    "    if n>=r:\n",
    "        return math.factorial(n)/(math.factorial(r) * math.factorial(n-r))\n",
    "    return None\n",
    "\n",
    "class BinomialDistribution:\n",
    "    def __init__(self,probability,n):\n",
    "        self.probability = probability\n",
    "        self.n = n\n",
    "    \n",
    "    def binomial(self,x):\n",
    "        return combination(self.n,x)*self.probability**x * (1-self.probability)**(self.n-x)\n",
    "    \n",
    "    def BinomialDistribution(self,*args):\n",
    "        return sum([self.binomial(i) for i in args])"
   ]
  },
  {
   "cell_type": "code",
   "execution_count": 3,
   "metadata": {},
   "outputs": [],
   "source": [
    "b = BinomialDistribution(0.25,12)"
   ]
  },
  {
   "cell_type": "code",
   "execution_count": 4,
   "metadata": {},
   "outputs": [
    {
     "data": {
      "text/plain": [
       "0.03167635202407837"
      ]
     },
     "execution_count": 4,
     "metadata": {},
     "output_type": "execute_result"
    }
   ],
   "source": [
    "b.BinomialDistribution(0)"
   ]
  },
  {
   "cell_type": "code",
   "execution_count": 5,
   "metadata": {},
   "outputs": [
    {
     "data": {
      "text/plain": [
       "0.2322932481765747"
      ]
     },
     "execution_count": 5,
     "metadata": {},
     "output_type": "execute_result"
    }
   ],
   "source": [
    "b.binomial(2)"
   ]
  },
  {
   "cell_type": "markdown",
   "metadata": {},
   "source": [
    "Due to error in manufacturing process, Company claim that 25% of items are defected. Company packs such items into a box with 12 items. If we select a box at random, find the probability that\n",
    "1. It contain no defective item\n",
    "2. Exactly two defective item\n",
    "3. At least two defective item\n",
    "4. At most two defective item"
   ]
  },
  {
   "cell_type": "code",
   "execution_count": 6,
   "metadata": {},
   "outputs": [],
   "source": [
    "p = BinomialDistribution(probability=0.25,n=12)"
   ]
  },
  {
   "cell_type": "code",
   "execution_count": 7,
   "metadata": {},
   "outputs": [
    {
     "data": {
      "text/plain": [
       "0.03167635202407837"
      ]
     },
     "execution_count": 7,
     "metadata": {},
     "output_type": "execute_result"
    }
   ],
   "source": [
    "#Probability that it contains no defective items\n",
    "p.BinomialDistribution(0)"
   ]
  },
  {
   "cell_type": "markdown",
   "metadata": {},
   "source": [
    "Hence, 0.0316 is probability that it contain no defective items"
   ]
  },
  {
   "cell_type": "code",
   "execution_count": 8,
   "metadata": {},
   "outputs": [
    {
     "data": {
      "text/plain": [
       "0.2322932481765747"
      ]
     },
     "execution_count": 8,
     "metadata": {},
     "output_type": "execute_result"
    }
   ],
   "source": [
    "#Exactly two defective item\n",
    "p.BinomialDistribution(2)"
   ]
  },
  {
   "cell_type": "markdown",
   "metadata": {},
   "source": [
    "Hence, 0.23229 is the probability that exactly two items are defective"
   ]
  },
  {
   "cell_type": "code",
   "execution_count": 9,
   "metadata": {},
   "outputs": [
    {
     "data": {
      "text/plain": [
       "0.8416182398796082"
      ]
     },
     "execution_count": 9,
     "metadata": {},
     "output_type": "execute_result"
    }
   ],
   "source": [
    "#At least two defective items\n",
    "p.BinomialDistribution(2,3,4,5,6,7,8,9,10,11,12)"
   ]
  },
  {
   "cell_type": "markdown",
   "metadata": {},
   "source": [
    "Hence, 0.8417 is probability that it has at least two defective item"
   ]
  },
  {
   "cell_type": "code",
   "execution_count": 10,
   "metadata": {},
   "outputs": [
    {
     "data": {
      "text/plain": [
       "0.8416182398796082"
      ]
     },
     "execution_count": 10,
     "metadata": {},
     "output_type": "execute_result"
    }
   ],
   "source": [
    "#it can also be calculated as:\n",
    "1 - p.BinomialDistribution(0,1)"
   ]
  },
  {
   "cell_type": "code",
   "execution_count": 11,
   "metadata": {},
   "outputs": [
    {
     "data": {
      "text/plain": [
       "0.39067500829696655"
      ]
     },
     "execution_count": 11,
     "metadata": {},
     "output_type": "execute_result"
    }
   ],
   "source": [
    "#At most two defective item\n",
    "p.BinomialDistribution(0,1,2)"
   ]
  },
  {
   "cell_type": "markdown",
   "metadata": {},
   "source": [
    "Hence, 0.3907 is the probabilty that it has at most two defective item"
   ]
  },
  {
   "cell_type": "markdown",
   "metadata": {},
   "source": [
    "## Graph"
   ]
  },
  {
   "cell_type": "code",
   "execution_count": 12,
   "metadata": {},
   "outputs": [],
   "source": [
    "import matplotlib.pyplot as plt\n",
    "%matplotlib inline\n",
    "def combination(n,r):\n",
    "    if n>=r:\n",
    "        return math.factorial(n)/(math.factorial(r) * math.factorial(n-r))\n",
    "    return None\n",
    "\n",
    "class BinomialDistribution:\n",
    "    def __init__(self,probability,n):\n",
    "        self.probability = probability\n",
    "        self.n = n\n",
    "    \n",
    "    def binomial(self,x):\n",
    "        return combination(self.n,x)*self.probability**x * (1-self.probability)**(self.n-x)\n",
    "    \n",
    "    def BinomialDistribution(self,*args):\n",
    "        return sum([self.binomial(i) for i in args])\n",
    "    \n",
    "    def BarGraph(self,no_of_repetition):\n",
    "        x = range(0,self.n+1)\n",
    "        y = [no_of_repetition * self.binomial(i) for i in x]\n",
    "        plt.bar(x,y)\n",
    "    def plot(self,no_of_repetition):\n",
    "        x = range(0,self.n+1)\n",
    "        y = [no_of_repetition * self.binomial(i) for i in x]\n",
    "        plt.plot(x,y)"
   ]
  },
  {
   "cell_type": "code",
   "execution_count": 13,
   "metadata": {},
   "outputs": [],
   "source": [
    "d = BinomialDistribution(probability=.20,n=10)"
   ]
  },
  {
   "cell_type": "code",
   "execution_count": 14,
   "metadata": {},
   "outputs": [
    {
     "data": {
      "image/png": "[encoded data removed]",
      "text/plain": [
       "<Figure size 432x288 with 1 Axes>"
      ]
     },
     "metadata": {
      "needs_background": "light"
     },
     "output_type": "display_data"
    }
   ],
   "source": [
    "d.BarGraph(500)"
   ]
  },
  {
   "cell_type": "code",
   "execution_count": 15,
   "metadata": {},
   "outputs": [
    {
     "data": {
      "image/png": "[encoded data removed]",
      "text/plain": [
       "<Figure size 432x288 with 1 Axes>"
      ]
     },
     "metadata": {
      "needs_background": "light"
     },
     "output_type": "display_data"
    }
   ],
   "source": [
    "d.plot(500)"
   ]
  },
  {
   "cell_type": "markdown",
   "metadata": {},
   "source": [
    "During one stage in the manufacture of integrated circuit chips, a coatin must be applied. If 70% of chips receive a thick enough coating, find the probability that among 15 chips\n",
    "1. At least 12 will have thick enough coating\n",
    "2. At most 3 will have thick enough coating\n",
    "3. Exactly 10 will have thick enough coating"
   ]
  },
  {
   "cell_type": "code",
   "execution_count": 16,
   "metadata": {},
   "outputs": [],
   "source": [
    "import matplotlib.pyplot as plt\n",
    "%matplotlib inline\n",
    "def combination(n,r):\n",
    "    if n>=r:\n",
    "        return math.factorial(n)/(math.factorial(r) * math.factorial(n-r))\n",
    "    return None\n",
    "\n",
    "class BinomialDistribution:\n",
    "    def __init__(self,probability,n):\n",
    "        self.probability = probability\n",
    "        self.n = n\n",
    "    \n",
    "    def binomial(self,x):\n",
    "        return combination(self.n,x)*self.probability**x * (1-self.probability)**(self.n-x)\n",
    "    \n",
    "    def BinomialDistribution(self,*args):\n",
    "        return sum([self.binomial(i) for i in args])\n",
    "    \n",
    "    def BarGraph(self,no_of_repetition):\n",
    "        x = range(0,self.n+1)\n",
    "        y = [no_of_repetition * self.binomial(i) for i in x]\n",
    "        plt.bar(x,y)\n",
    "    def plot(self,no_of_repetition):\n",
    "        x = range(0,self.n+1)\n",
    "        y = [no_of_repetition * self.binomial(i) for i in x]\n",
    "        plt.plot(x,y)"
   ]
  },
  {
   "cell_type": "code",
   "execution_count": 19,
   "metadata": {},
   "outputs": [],
   "source": [
    "b = BinomialDistribution(0.7,15)"
   ]
  },
  {
   "cell_type": "code",
   "execution_count": 21,
   "metadata": {},
   "outputs": [
    {
     "data": {
      "text/plain": [
       "0.29686792788704786"
      ]
     },
     "execution_count": 21,
     "metadata": {},
     "output_type": "execute_result"
    }
   ],
   "source": [
    "#1. At least 12 will have thick enough coating\n",
    "b.BinomialDistribution(12,13,14,15)"
   ]
  },
  {
   "cell_type": "code",
   "execution_count": 22,
   "metadata": {},
   "outputs": [
    {
     "data": {
      "text/plain": [
       "9.165869215200015e-05"
      ]
     },
     "execution_count": 22,
     "metadata": {},
     "output_type": "execute_result"
    }
   ],
   "source": [
    "#2. At most 3 will have thick enough coating\n",
    "b.BinomialDistribution(0,1,2,3)"
   ]
  },
  {
   "cell_type": "code",
   "execution_count": 23,
   "metadata": {},
   "outputs": [
    {
     "data": {
      "text/plain": [
       "0.20613038097752098"
      ]
     },
     "execution_count": 23,
     "metadata": {},
     "output_type": "execute_result"
    }
   ],
   "source": [
    "# 3. Exactly 10 will have thick enough coating\n",
    "b.BinomialDistribution(10)"
   ]
  },
  {
   "cell_type": "markdown",
   "metadata": {},
   "source": [
    "## Solved\n",
    "Graph"
   ]
  },
  {
   "cell_type": "code",
   "execution_count": 24,
   "metadata": {},
   "outputs": [
    {
     "data": {
      "image/png": "[encoded data removed]",
      "text/plain": [
       "<Figure size 432x288 with 1 Axes>"
      ]
     },
     "metadata": {
      "needs_background": "light"
     },
     "output_type": "display_data"
    }
   ],
   "source": [
    "b.plot(no_of_repetition=5000)"
   ]
  },
  {
   "cell_type": "code",
   "execution_count": null,
   "metadata": {},
   "outputs": [],
   "source": []
  }
 ],
 "metadata": {
  "kernelspec": {
   "display_name": "Python 3",
   "language": "python",
   "name": "python3"
  },
  "language_info": {
   "codemirror_mode": {
    "name": "ipython",
    "version": 3
   },
   "file_extension": ".py",
   "mimetype": "text/x-python",
   "name": "python",
   "nbconvert_exporter": "python",
   "pygments_lexer": "ipython3",
   "version": "3.7.1"
  }
 },
 "nbformat": 4,
 "nbformat_minor": 2
}
